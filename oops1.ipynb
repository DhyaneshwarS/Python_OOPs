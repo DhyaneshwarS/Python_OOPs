{
 "cells": [
  {
   "cell_type": "markdown",
   "metadata": {},
   "source": [
    "# __Python OOPs Concepts__\n",
    "\n",
    "Python is a object-oriented programming language, which means everything in python is treated as object. The approach of solving a programming problem or coding a program by structuring a programs so that the properties and behaviors are bundled into individual objects. \n",
    "\n",
    "This creating of objects is know as Object Oriented Programming. This fundamental concept of objects makes the code easier to manage and organize.\n",
    "\n",
    "An object has two characteristics:\n",
    "\n",
    "- Attributes - Data in the form of properties\n",
    "- Behavior - in the form of methods (actions object can perform) \n",
    "\n",
    "For example:\n",
    "\n",
    "A parrot is can be an object, as it has the following properties:\n",
    "\n",
    "- name, age, color as attributes\n",
    "- singing, dancing as behavior\n",
    "\n",
    "In Python, the concept of OOP follows some basic principles:\n",
    "\n",
    "###  __Class__\n",
    "\n",
    "In python, everything is an object. To create a object we require a model or blueprint which is nothing but class. We create a class to create a object. A class is like an object constructor or blueprint for creating a objects. The class defines attributes and the behavior of the object, while the object, on the other hand, represents the class.\n",
    "\n",
    "__Class represents the properties (attribute) and action (behavior) of the object. Properties represent variables, and actions are represented by the methods. Hence class contains both variables and methods.__\n",
    "\n",
    "Syntax:\n",
    "```python\n",
    "class Classname:\n",
    "    '''documentation string'''\n",
    "    class_suite\n",
    "```\n",
    "- Documentation string: represent a description of the class. It is optional.\n",
    "\n",
    "- class_suite: class suite contains component statements, variables, methods, functions, attributes.\n",
    "\n",
    "The __class__ keyword define a class. From Class we construct instance. An instance is specific object created from a particular class."
   ]
  },
  {
   "cell_type": "code",
   "execution_count": 2,
   "metadata": {},
   "outputs": [
    {
     "name": "stdout",
     "output_type": "stream",
     "text": [
      "<class '__main__.Customer'>\n"
     ]
    }
   ],
   "source": [
    "# Creating a class\n",
    "\n",
    "class Customer:\n",
    "    pass\n",
    "\n",
    "print(Customer)"
   ]
  },
  {
   "cell_type": "markdown",
   "metadata": {},
   "source": [
    "### __Creating a Objects__\n",
    "\n",
    "The physical existence of the class is nothing but object. In other words, the object is an entity that has a state and behaviour.\n",
    "\n",
    "Therefore, an object (instance) is an instantiation (creating a new object from the class) of a class. So, when class is defined, only the description for the object is defined. Therefore, no memory or storage is allocated.\n",
    "\n",
    "The procedure to create an object is similar to an function call.\n",
    "\n",
    "Syntax:\n",
    "\n",
    "reference_variable = classname()\n"
   ]
  },
  {
   "cell_type": "code",
   "execution_count": 4,
   "metadata": {},
   "outputs": [
    {
     "name": "stdout",
     "output_type": "stream",
     "text": [
      "<__main__.Customer object at 0x00000203246400D0>\n"
     ]
    }
   ],
   "source": [
    "# EXAMPLE 1:\n",
    "\n",
    "new_customer1=Customer()\n",
    "print(new_customer1)\n"
   ]
  },
  {
   "cell_type": "code",
   "execution_count": 12,
   "metadata": {},
   "outputs": [
    {
     "name": "stdout",
     "output_type": "stream",
     "text": [
      "New customer added\n",
      "New customer added\n"
     ]
    }
   ],
   "source": [
    "# EXMAPLE 2: Creating a class and object \n",
    "\n",
    "class Customer:\n",
    "\n",
    "    # Creating a class Attribute or variable\n",
    "    phone_number = '9493959255'\n",
    "    \n",
    "    # Creating a class method (Behaviour or function)\n",
    "    def add(self):\n",
    "        print(\"New customer added\")\n",
    "\n",
    "# creating a new object\n",
    "Tony=Customer()\n",
    "\n",
    "# calling object's method\n",
    "Tony.add()\n",
    "Customer.add(Tony)"
   ]
  },
  {
   "cell_type": "markdown",
   "metadata": {},
   "source": [
    "__Explanation:__\n",
    "\n",
    "You may have noticed the __self__ parameter in function definition inside the class but we called the method simply as Tony.add() without any arguments. It still worked.\n",
    "\n",
    "This is because, whenever an object calls its method, the object itself is passed as the first argument. So, __Tony.add()__ translates into __Customer.add(Tony)__.\n",
    "\n",
    "In general, calling a method with a list of n arguments is equivalent to calling the corresponding function with an argument list that is created by inserting the method's object before the first argument.\n",
    "\n",
    "For these reasons, the first argument of the function in class must be the object itself. This is conventionally called self. It can be named otherwise but we highly recommend to follow the convention."
   ]
  },
  {
   "cell_type": "markdown",
   "metadata": {},
   "source": [
    "### __Constructors in Python__\n",
    "\n",
    "Once you have a class to work with, then you can start creating new instances or objects of that class, which is an efficient way to reuse functionality in your code.\n",
    "\n",
    "Creating and initializing objects of a given class is a fundamental step in object-oriented programming. This step is often referred to as object construction or __instantiation__. The tool responsible for running this instantiation process is commonly known as a __class constructor__.\n",
    "\n",
    "A class without a constructor is not really useful in real applications. A constructor is a special type of method used in Python to initialize the object of a Class. The constructor will be executed automatically when the object is created. If we create three objects, the constructor is called three times and initialize each object.\n",
    "\n",
    "The constructor is defined using the `__init__(self)` method. It can take at least one argument that is __self__.\n",
    "\n",
    "Syntax of Constructor in Python\n",
    "```python\n",
    "\n",
    "class ClassName:\n",
    "    def __init__(self, parameters):\n",
    "        # Body of constructor\n",
    "        # Initialization of instance variables\n",
    "```\n",
    "- self: This refers to the current instance of the class and is used to access variables and methods associated with the class.\n",
    "- parameters: These are optional arguments passed to the constructor that allow you to initialize the instance variables with specific values.\n",
    "\n",
    "Types of Constructors in Python\n",
    "- __Default Constructor__:\n",
    "\n",
    "    A constructor is optional, and if we do not provide any constructor, then Python provides the default constructor. Every class in Python has a constructor, but it’s not required to define it.\n",
    "\n",
    "    A default constructor is a simple constructor method that doesn't accept any arguments except self.\n",
    "    \n",
    "    It is automatically provided by Python if no other constructor is defined in the class.\n",
    "\n",
    "\n"
   ]
  },
  {
   "cell_type": "code",
   "execution_count": 1,
   "metadata": {},
   "outputs": [],
   "source": [
    "class EmptyClass:\n",
    "    pass\n",
    "\n",
    "obj = EmptyClass()  # Object created using default constructor"
   ]
  },
  {
   "cell_type": "markdown",
   "metadata": {},
   "source": [
    "- __Non-parameterized Constructor:__\n",
    "\n",
    "    A non-parameterized constructor (explicit default constructor) is defined using the `__init__()` method but does not take any parameters (except `self`). \n",
    "\n",
    "    It may or may not initialize attributes, but it doesn't take any external arguments when creating an object.\n",
    "    \n",
    "    The values of attributes inside the non-parameterized constructors are defined when creating the class and can not be modified while instantiating.\n"
   ]
  },
  {
   "cell_type": "code",
   "execution_count": null,
   "metadata": {},
   "outputs": [],
   "source": [
    "# Example 1: Parameterized constructor without initilizing default attributes.\n",
    "\n",
    "class Test:\n",
    "    # Constructor - non parameterized\n",
    "    def __init__(self):\n",
    "        print(\"This is non parametrized constructor\")\n",
    "\n",
    "    def show(self, name):\n",
    "        print(\"Hello\", name)\n",
    "\n",
    "# creating object of the class\n",
    "t = Test()         # Output:This is non parametrized constructor\n",
    "\n",
    "# calling the instance method\n",
    "t.show(\"Arthur\")   # Output Hello Arthur"
   ]
  },
  {
   "cell_type": "markdown",
   "metadata": {},
   "source": [
    "Here, ```__init__()``` is a non-parameterized constructor, which is also called a explicit default constructor because it doesn't require any parameters other than ```self``. It initializes the brand attribute to \"Unknown\" without taking any input during object creation.\n",
    "\n",
    "Note! Here we may confuse with default constructor and non-parametized constructor(without intilizing attributes). In Python, the terms default constructor and non-parameterized constructor are often used interchangeably when referring to constructors that do not take additional arguments."
   ]
  },
  {
   "cell_type": "code",
   "execution_count": 2,
   "metadata": {},
   "outputs": [
    {
     "name": "stdout",
     "output_type": "stream",
     "text": [
      "Cloth = Cotton\n",
      "Type = T-Shirt\n"
     ]
    }
   ],
   "source": [
    "# Example 2: Non-parameterized constructor with initilizing default attributes.\n",
    "\n",
    "class Dress:\n",
    "   def __init__(self):\n",
    "       self.cloth = \"Cotton\"\n",
    "       self.type = \"T-Shirt\"\n",
    "   def get_details(self):\n",
    "       return f\"Cloth = {self.cloth}\\nType = {self.type}\"\n",
    "t_shirt = Dress()\n",
    "print(t_shirt.get_details())"
   ]
  },
  {
   "cell_type": "markdown",
   "metadata": {},
   "source": [
    "- __Parameterized Constructor__:\n",
    "\n",
    "    This is a constructor that takes arguments. It is used when you want to pass values to instance variables(attributes) at the time of object creation.\n",
    "\n",
    "    The values of attributes inside these constructors can be modified while instantiating with the help of parameters. Since the attributes can be modified, each object can have different values and be unique.\n",
    "\n",
    "    _Syntax:_\n",
    "    ```python\n",
    "    class ClassName:\n",
    "    def __init__(self, param1, param2, ...):\n",
    "        # Initialize attributes\n",
    "        self.param1 = param1\n",
    "        self.param2 = param2\n",
    "        # Additional initialization \n",
    "    ```"
   ]
  },
  {
   "cell_type": "code",
   "execution_count": 3,
   "metadata": {},
   "outputs": [
    {
     "name": "stdout",
     "output_type": "stream",
     "text": [
      "This is parametrized constructor\n",
      "Fruit is Apple and Color is red\n"
     ]
    }
   ],
   "source": [
    "# Example 1: Constructor with parameters\n",
    "\n",
    "class Fruit:\n",
    "    # parameterized constructor\n",
    "    def __init__(self, name, color):\n",
    "        print(\"This is parametrized constructor\")\n",
    "        self.name = name\n",
    "        self.color = color\n",
    "\n",
    "    def show(self):\n",
    "        print(\"Fruit is\", self.name, \"and Color is\", self.color)\n",
    "\n",
    "# creating object of the class\n",
    "# this will invoke parameterized constructor\n",
    "obj = Fruit(\"Apple\", \"red\")   # Output This is parametrized constructor\n",
    "\n",
    "# calling the instance method using the object\n",
    "obj.show()  "
   ]
  },
  {
   "cell_type": "code",
   "execution_count": null,
   "metadata": {},
   "outputs": [],
   "source": [
    "# Example 2: Changing values of attribures in arametrized constructor\n",
    "\n",
    "class Dress:\n",
    "   def __init__(self, cloth, type, quantity=5):\n",
    "       self.cloth = cloth\n",
    "       self.type = type\n",
    "       self.quantity = quantity\n",
    "   def get_details(self):\n",
    "       return f\"{self.quantity} {self.cloth} {self.type}(s)\"\n",
    "\n",
    "shirt = Dress(\"silk\", \"shirt\", 20)\n",
    "t_shirt = Dress(\"cotton\", \"t-shirt\")\n",
    "print(shirt.get_details())\n",
    "print(t_shirt.get_details())"
   ]
  },
  {
   "cell_type": "markdown",
   "metadata": {},
   "source": [
    "##### __`__int__()` Arguments in Python:__\n",
    "\n",
    "The __init__() method supports all kinds of arguments in Python.\n",
    "\n",
    "- __1. Positional Arguments in Python__\n",
    "    \n",
    "    Positional arguments pass values to parameters depending on their position. They are simpler and easier to use than other types of arguments.\n",
    "\n",
    "Example of Python Positional Arguments:"
   ]
  },
  {
   "cell_type": "code",
   "execution_count": 4,
   "metadata": {},
   "outputs": [
    {
     "name": "stdout",
     "output_type": "stream",
     "text": [
      "A shirt costs Rs.50\n"
     ]
    }
   ],
   "source": [
    "class Dress:\n",
    "   def __init__(self, type, price):\n",
    "       self.type = type\n",
    "       self.price = price\n",
    "   def details(self):\n",
    "       return f\"A {self.type} costs Rs.{self.price}\"\n",
    "shirt = Dress(\"shirt\", 50)\n",
    "print(shirt.details())"
   ]
  },
  {
   "cell_type": "markdown",
   "metadata": {},
   "source": [
    "- __2. Keyword Arguments in Python__\n",
    "\n",
    "    Arguments which should be passed by using a parameter name and an equal to sign are called keyword arguments. They are independent of position and dependent on the name of the parameter. These arguments are easier to read and provide better readability.\n",
    "\n",
    "Example of Python Keyword Argument:"
   ]
  },
  {
   "cell_type": "code",
   "execution_count": null,
   "metadata": {},
   "outputs": [],
   "source": [
    "class Dress:\n",
    "   def __init__(self, type, price):\n",
    "       self.type = type\n",
    "       self.price = price\n",
    "   def details(self):\n",
    "       return f\"A {self.type} costs Rs.{self.price}\"\n",
    "t_shirt = Dress(price=150, type=\"t-shirt\")\n",
    "print(t_shirt.details())"
   ]
  },
  {
   "cell_type": "markdown",
   "metadata": {},
   "source": [
    "- __3. Arbitrary Argument in Python__\n",
    "\n",
    "    Multiple arguments which are passed into a single indefinite length tuple are called arbitrary arguments. \n",
    "    \n",
    "    We use arbitrary arguments when we don’t know the number of arguments that will be passed to the constructor or even in methods.\n",
    "    These can be positional or keyword arguments, depending on how they are defined.\n",
    "\n",
    "    Types of Arbitrary Arguments:\n",
    "\n",
    "    1. `*args`\n",
    "\n",
    "    2. `**kwargs`\n",
    "\n",
    "    __Using ```*args```:__\n",
    "\n",
    "    ```*args``` is useful when you want to pass a variable number of __positional arguments (i.e., unnamed arguments)__ to a method or constructor. \n",
    "\n",
    "    It Collects the arguments into a tuple.\n",
    "    \n",
    "    Since ```*args``` collects positional arguments as a tuple, they are accessed by index.\n",
    "    "
   ]
  },
  {
   "cell_type": "code",
   "execution_count": 7,
   "metadata": {},
   "outputs": [
    {
     "name": "stdout",
     "output_type": "stream",
     "text": [
      "Apple\n",
      "Banana\n",
      "Orange\n",
      "Banana\n"
     ]
    }
   ],
   "source": [
    "# Example:\n",
    "\n",
    "class ShoppingCart:\n",
    "    def __init__(self, *items):\n",
    "        self.items = items\n",
    "\n",
    "    def distplay_item(self,n):\n",
    "        print(self.items[n-1]) #Item in the tuple is accessed using indexing\n",
    "\n",
    "    def display_all_items(self):\n",
    "        for item in self.items:\n",
    "            print(item)\n",
    "\n",
    "cart = ShoppingCart('Apple', 'Banana', 'Orange')\n",
    "cart.display_all_items()\n",
    "cart.distplay_item(2)\n"
   ]
  },
  {
   "cell_type": "markdown",
   "metadata": {},
   "source": [
    "<!-- This text \"&nbsp;\" is HTML entity I'm using this for intentation purpose  -->\n",
    "\n",
    "&nbsp;&nbsp;&nbsp;&nbsp;&nbsp;&nbsp;&nbsp;&nbsp;&nbsp;&nbsp; __Using ```**kwargs```:__  \n",
    "\n",
    "&nbsp;&nbsp;&nbsp;&nbsp;&nbsp;&nbsp;&nbsp;&nbsp;&nbsp;&nbsp; ```**kwargs``` is used when you want to pass a variable number of __keyword arguments (i.e., named arguments). It’s commonly used in methods where the number or type of parameters is dynamic.\n",
    "\n",
    "&nbsp;&nbsp;&nbsp;&nbsp;&nbsp;&nbsp;&nbsp;&nbsp;&nbsp;&nbsp;It collects the arguments into a dictionary.\n",
    "\n",
    "&nbsp;&nbsp;&nbsp;&nbsp;&nbsp;&nbsp;&nbsp;&nbsp;&nbsp;&nbsp;Since ```**kwargs``` collects keyword arguments in a dictionary, they are accessed by keys."
   ]
  },
  {
   "cell_type": "code",
   "execution_count": 9,
   "metadata": {},
   "outputs": [
    {
     "name": "stdout",
     "output_type": "stream",
     "text": [
      "Item: Banana\n",
      "  price: 0.5\n",
      "  quantity: 5\n"
     ]
    }
   ],
   "source": [
    "# Example:\n",
    "\n",
    "class ShoppingCart:\n",
    "    def __init__(self, **items):\n",
    "        self.items = items\n",
    "\n",
    "    def display_item(self, item_name):\n",
    "        if item_name in self.items:\n",
    "            print(f\"Item: {item_name}\")\n",
    "            for key, value in self.items[item_name].items():\n",
    "                print(f\"  {key}: {value}\")\n",
    "        else:\n",
    "            print(f\"{item_name} is not in the cart.\")\n",
    "\n",
    "    def display_all_items(self):\n",
    "        for item, details in self.items.items():\n",
    "            print(f\"Item: {item}\")\n",
    "            for key, value in details.items():\n",
    "                print(f\"  {key}: {value}\")\n",
    "        print()\n",
    "\n",
    "\n",
    "cart = ShoppingCart(Apple={'price': 1.0, 'quantity': 2},\n",
    "                    Banana={'price': 0.5, 'quantity': 5},\n",
    "                    Orange={'price': 0.8, 'quantity': 3})\n",
    "\n",
    "#cart.display_all_items()\n",
    "cart.display_item('Banana')\n"
   ]
  },
  {
   "cell_type": "markdown",
   "metadata": {},
   "source": []
  }
 ],
 "metadata": {
  "kernelspec": {
   "display_name": "Python 3",
   "language": "python",
   "name": "python3"
  },
  "language_info": {
   "codemirror_mode": {
    "name": "ipython",
    "version": 3
   },
   "file_extension": ".py",
   "mimetype": "text/x-python",
   "name": "python",
   "nbconvert_exporter": "python",
   "pygments_lexer": "ipython3",
   "version": "3.11.4"
  }
 },
 "nbformat": 4,
 "nbformat_minor": 2
}
